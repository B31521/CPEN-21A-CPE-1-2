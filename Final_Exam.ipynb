{
  "nbformat": 4,
  "nbformat_minor": 0,
  "metadata": {
    "colab": {
      "name": "Final Exam.ipynb",
      "provenance": [],
      "authorship_tag": "ABX9TyMiaiE0nUeSIWMZC0NNEIYz",
      "include_colab_link": true
    },
    "kernelspec": {
      "name": "python3",
      "display_name": "Python 3"
    },
    "language_info": {
      "name": "python"
    }
  },
  "cells": [
    {
      "cell_type": "markdown",
      "metadata": {
        "id": "view-in-github",
        "colab_type": "text"
      },
      "source": [
        "<a href=\"https://colab.research.google.com/github/B31521/CPEN-21A-CPE-1-2/blob/main/Final_Exam.ipynb\" target=\"_parent\"><img src=\"https://colab.research.google.com/assets/colab-badge.svg\" alt=\"Open In Colab\"/></a>"
      ]
    },
    {
      "cell_type": "markdown",
      "source": [
        "# Final Exam"
      ],
      "metadata": {
        "id": "3GleFON17ItE"
      }
    },
    {
      "cell_type": "markdown",
      "source": [
        "Problem Statement 1"
      ],
      "metadata": {
        "id": "1LvYIkGR7LlD"
      }
    },
    {
      "cell_type": "code",
      "execution_count": null,
      "metadata": {
        "id": "3bWfX6lg6-ei",
        "colab": {
          "base_uri": "https://localhost:8080/"
        },
        "outputId": "8bd04a29-7f73-4305-eb8b-079f27909449"
      },
      "outputs": [
        {
          "output_type": "stream",
          "name": "stdout",
          "text": [
            "The sum of the numbers is -5\n"
          ]
        }
      ],
      "source": [
        "Summation=[-5+-4+-3+-2+-1+0+1+2+3+4]\n",
        "\n",
        "for x in Summation:\n",
        "    print(\"The sum of the numbers is\",x)"
      ]
    },
    {
      "cell_type": "markdown",
      "source": [
        "Problem Statement 2"
      ],
      "metadata": {
        "id": "HYO4eeSE76uA"
      }
    },
    {
      "cell_type": "code",
      "source": [
        "digits=5\n",
        "\n",
        "while digits>=1:\n",
        "  num=int(input(\"Enter digits here: \"))\n",
        "  if digits==1:\n",
        "    first=num\n",
        "  if digits==5:\n",
        "    last=num\n",
        "  digits-=1\n",
        "  \n",
        "\n",
        "sum=(first+last)\n",
        "print(\"The sum of the first and last digits is\",sum)\n",
        " \n"
      ],
      "metadata": {
        "id": "oI-CeXmDO38V",
        "colab": {
          "base_uri": "https://localhost:8080/"
        },
        "outputId": "49ecfe9f-3e62-4066-abb0-b79fbf077a1c"
      },
      "execution_count": 59,
      "outputs": [
        {
          "output_type": "stream",
          "name": "stdout",
          "text": [
            "Enter digits here: 12345\n",
            "Enter digits here: 43261\n",
            "Enter digits here: 73526\n",
            "Enter digits here: 38942\n",
            "Enter digits here: 43210\n",
            "The sum of the first and last digits is 55555\n"
          ]
        }
      ]
    },
    {
      "cell_type": "markdown",
      "source": [
        "Problem Statement 3"
      ],
      "metadata": {
        "id": "sbDnvKRQ78kL"
      }
    },
    {
      "cell_type": "code",
      "source": [
        "num=float(input(\"Enter the number: \"))\n",
        "if num>=90: \n",
        "  grade='A'\n",
        "else:\n",
        "  if num>=80 and num<=89:\n",
        "    grade='B'\n",
        "  else:\n",
        "    if num>=70 and num<=79:\n",
        "      grade='C'\n",
        "    else:\n",
        "      if num>=60 and num<=69:\n",
        "        grade='D'\n",
        "      else:\n",
        "        grade='F'\n",
        "\n",
        "print(grade)"
      ],
      "metadata": {
        "id": "AFhAmaqe7-aK",
        "colab": {
          "base_uri": "https://localhost:8080/"
        },
        "outputId": "261362c7-5a40-47a6-ddf5-9f80492b83d2"
      },
      "execution_count": null,
      "outputs": [
        {
          "output_type": "stream",
          "name": "stdout",
          "text": [
            "Enter the number: 52\n",
            "F\n"
          ]
        }
      ]
    }
  ]
}