{
  "nbformat": 4,
  "nbformat_minor": 0,
  "metadata": {
    "colab": {
      "name": "Lab1.ipynb",
      "provenance": [],
      "authorship_tag": "ABX9TyMIksg4UmQP+Sy0YPB2q+OP",
      "include_colab_link": true
    },
    "kernelspec": {
      "name": "python3",
      "display_name": "Python 3"
    },
    "language_info": {
      "name": "python"
    }
  },
  "cells": [
    {
      "cell_type": "markdown",
      "metadata": {
        "id": "view-in-github",
        "colab_type": "text"
      },
      "source": [
        "<a href=\"https://colab.research.google.com/github/B31521/CPEN-21A-CPE-1-2/blob/main/Lab1.ipynb\" target=\"_parent\"><img src=\"https://colab.research.google.com/assets/colab-badge.svg\" alt=\"Open In Colab\"/></a>"
      ]
    },
    {
      "cell_type": "markdown",
      "metadata": {
        "id": "My4kq08z3YOx"
      },
      "source": [
        "**Laboratory 1**"
      ]
    },
    {
      "cell_type": "code",
      "metadata": {
        "colab": {
          "base_uri": "https://localhost:8080/"
        },
        "id": "t-YSu6KG2B0r",
        "outputId": "ae0cccc4-6472-49fa-d3c4-85107c15e73b"
      },
      "source": [
        "x=\"Python Programming\"\n",
        "print(\"Welcome to \"+x)"
      ],
      "execution_count": 17,
      "outputs": [
        {
          "output_type": "stream",
          "name": "stdout",
          "text": [
            "Welcome to Python Programming\n"
          ]
        }
      ]
    },
    {
      "cell_type": "code",
      "metadata": {
        "colab": {
          "base_uri": "https://localhost:8080/"
        },
        "id": "YjQ-iy885DMH",
        "outputId": "9ad86db2-c0e3-45ee-cdad-58ee2f7666d6"
      },
      "source": [
        "x=\"Billy Gilson R. Pulido\"\n",
        "y=\"254 D.P. Jimenez St. Wawa 3, Rosario, Cavite\"\n",
        "z=\"19\"\n",
        "print(\"Name: \"+x)\n",
        "print(\"Adress: \"+y)\n",
        "print(\"Age: \"+z)\n"
      ],
      "execution_count": 10,
      "outputs": [
        {
          "output_type": "stream",
          "name": "stdout",
          "text": [
            "Name: Billy Gilson R. Pulido\n",
            "Adress: 254 D.P. Jimenez St. Wawa 3, Rosario, Cavite\n",
            "Age: 19\n"
          ]
        }
      ]
    },
    {
      "cell_type": "code",
      "metadata": {
        "colab": {
          "base_uri": "https://localhost:8080/"
        },
        "id": "PfSBywKr5sV6",
        "outputId": "d77a60a9-08ba-4780-9036-825b43db388e"
      },
      "source": [
        "x=\"Billy Gilson R. Pulido\"\n",
        "y=\"254 D.P. Jimenez St. Wawa 3, Rosario, Cavite\"\n",
        "z=\"19\"\n",
        "print(\"My name is \"+x+\", I am \"+z+\" years of age, and I live at \"+y+\".\")"
      ],
      "execution_count": 19,
      "outputs": [
        {
          "output_type": "stream",
          "name": "stdout",
          "text": [
            "My name is Billy Gilson R. Pulido, I am 19 years of age, and I live at 254 D.P. Jimenez St. Wawa 3, Rosario, Cavite.\n"
          ]
        }
      ]
    }
  ]
}