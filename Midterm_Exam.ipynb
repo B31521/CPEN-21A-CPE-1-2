{
  "nbformat": 4,
  "nbformat_minor": 0,
  "metadata": {
    "colab": {
      "name": "Midterm Exam.ipynb",
      "provenance": [],
      "authorship_tag": "ABX9TyMpRxvjjCVT5A8C5rKLGNHp",
      "include_colab_link": true
    },
    "kernelspec": {
      "name": "python3",
      "display_name": "Python 3"
    },
    "language_info": {
      "name": "python"
    }
  },
  "cells": [
    {
      "cell_type": "markdown",
      "metadata": {
        "id": "view-in-github",
        "colab_type": "text"
      },
      "source": [
        "<a href=\"https://colab.research.google.com/github/B31521/CPEN-21A-CPE-1-2/blob/main/Midterm_Exam.ipynb\" target=\"_parent\"><img src=\"https://colab.research.google.com/assets/colab-badge.svg\" alt=\"Open In Colab\"/></a>"
      ]
    },
    {
      "cell_type": "markdown",
      "metadata": {
        "id": "tWho4gSyGxCe"
      },
      "source": [
        "# **Midterm** **Exam**"
      ]
    },
    {
      "cell_type": "markdown",
      "metadata": {
        "id": "AWN27Y2C6T_o"
      },
      "source": [
        "# Problem Statement 1"
      ]
    },
    {
      "cell_type": "code",
      "metadata": {
        "colab": {
          "base_uri": "https://localhost:8080/"
        },
        "id": "A7C8GW8F8EyX",
        "outputId": "ca042c71-eba4-4b9f-a823-21ffa449c79d"
      },
      "source": [
        "a=\"Billy Gilson R. Pulido\"\n",
        "b=\"202102004\"\n",
        "c=\"19\"\n",
        "d=\"06/03/2021\"\n",
        "e=\"254 D.P. Jimenez St. Wawa 3, Rosario, Cavite\"\n",
        "f=\"BSCpE 1-2\"\n",
        "g=\"97.33\"\n",
        "\n",
        "print(\"I am \"+a+\", from \"+f+\", student number \"+b+\".\")\n",
        "print(\"I am \"+c+\" years of age, \"+\"with a birthdate of \"+d+\".\")\n",
        "print(\"My home address is located at \"+e+\".\")\n",
        "print(\"My last general weighted average was \"+g+\".\")\n"
      ],
      "execution_count": null,
      "outputs": [
        {
          "output_type": "stream",
          "name": "stdout",
          "text": [
            "I am Billy Gilson R. Pulido, from BSCpE 1-2, student number 202102004.\n",
            "I am 19 years of age, with a birthdate of 06/03/2021.\n",
            "My home address is located at 254 D.P. Jimenez St. Wawa 3, Rosario, Cavite.\n",
            "My last general weighted average was 97.33.\n"
          ]
        }
      ]
    },
    {
      "cell_type": "markdown",
      "metadata": {
        "id": "TlTh_wzUHqNB"
      },
      "source": [
        "# Problem Statement 2"
      ]
    },
    {
      "cell_type": "code",
      "metadata": {
        "id": "oUQ0u0vzIAml",
        "colab": {
          "base_uri": "https://localhost:8080/"
        },
        "outputId": "d7c55d17-3fcc-46c7-9faa-e10197f726ff"
      },
      "source": [
        "n=4\n",
        "answ=\"Y\"\n",
        "\n",
        "print(2<n and n<6) #a\n",
        "print(2<n or n==6) #b\n",
        "print(not(2<n or n==6)) #c\n",
        "print(not(n<6)) #d\n",
        "print(answ==\"Y\" or answ==\"y\") #e\n",
        "print(answ==\"Y\" and answ==\"y\") #f\n",
        "print(not(answ==\"y\")) #g\n",
        "print((2<n and n==5+1) or answ==\"No\") #h\n",
        "print((n==2 and n==7) or answ==\"Y\") #i\n",
        "print(n==2 and (n==7 or answ==\"Y\")) #j"
      ],
      "execution_count": 25,
      "outputs": [
        {
          "output_type": "stream",
          "name": "stdout",
          "text": [
            "True\n",
            "True\n",
            "False\n",
            "False\n",
            "True\n",
            "False\n",
            "True\n",
            "False\n",
            "True\n",
            "False\n"
          ]
        }
      ]
    },
    {
      "cell_type": "markdown",
      "metadata": {
        "id": "9Z522FCbOG_R"
      },
      "source": [
        "# Problem Statement 3"
      ]
    },
    {
      "cell_type": "code",
      "metadata": {
        "colab": {
          "base_uri": "https://localhost:8080/"
        },
        "id": "s2bNq3HfJ3H0",
        "outputId": "c95b33ac-8ef6-4c85-8df2-8f16d54444d2"
      },
      "source": [
        "x,y,w,z=2,-3,7,-10\n",
        "\n",
        "print(x/y) #a\n",
        "print(w/y/x) #b\n",
        "print(z/y%x) #c\n",
        "print(x%-y*w) #d\n",
        "print(x%y) #e\n",
        "print(z%w-y/x*5+5) #f\n",
        "print(9-x%(2+y)) #g\n",
        "print(z//w) #h\n",
        "print((2+y)**2) #i\n",
        "print(w/x*2) #j"
      ],
      "execution_count": 33,
      "outputs": [
        {
          "output_type": "stream",
          "name": "stdout",
          "text": [
            "-0.6666666666666666\n",
            "-1.1666666666666667\n",
            "1.3333333333333335\n",
            "14\n",
            "-1\n",
            "16.5\n",
            "9\n",
            "-2\n",
            "1\n",
            "7.0\n"
          ]
        }
      ]
    }
  ]
}