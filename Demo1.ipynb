{
  "nbformat": 4,
  "nbformat_minor": 0,
  "metadata": {
    "colab": {
      "name": "Demo1.ipynb",
      "provenance": [],
      "authorship_tag": "ABX9TyNCkhw3hlsiOnGRm9c1yjIZ",
      "include_colab_link": true
    },
    "kernelspec": {
      "name": "python3",
      "display_name": "Python 3"
    },
    "language_info": {
      "name": "python"
    }
  },
  "cells": [
    {
      "cell_type": "markdown",
      "metadata": {
        "id": "view-in-github",
        "colab_type": "text"
      },
      "source": [
        "<a href=\"https://colab.research.google.com/github/B31521/CPEN-21A-CPE-1-2/blob/main/Demo1.ipynb\" target=\"_parent\"><img src=\"https://colab.research.google.com/assets/colab-badge.svg\" alt=\"Open In Colab\"/></a>"
      ]
    },
    {
      "cell_type": "markdown",
      "metadata": {
        "id": "sZm4Ch2KOOhK"
      },
      "source": [
        "**Python** **Indention**"
      ]
    },
    {
      "cell_type": "code",
      "metadata": {
        "id": "rHJSldb0OJRs",
        "colab": {
          "base_uri": "https://localhost:8080/"
        },
        "outputId": "c904d88e-959b-4771-b045-50304d4ee3da"
      },
      "source": [
        "if 5>2:\n",
        "  print(\"Five is greater than two\")"
      ],
      "execution_count": 1,
      "outputs": [
        {
          "output_type": "stream",
          "name": "stdout",
          "text": [
            "Five is greater than two\n"
          ]
        }
      ]
    },
    {
      "cell_type": "markdown",
      "metadata": {
        "id": "PONHHtMiOnx3"
      },
      "source": [
        "**Python** **Comments**"
      ]
    },
    {
      "cell_type": "code",
      "metadata": {
        "colab": {
          "base_uri": "https://localhost:8080/"
        },
        "id": "9AgH0oJgPSnK",
        "outputId": "c8eb29fa-e6fd-425a-c885-09f1ed2926fc"
      },
      "source": [
        "print(\"Hello everyone\") #This is a comment"
      ],
      "execution_count": 2,
      "outputs": [
        {
          "output_type": "stream",
          "name": "stdout",
          "text": [
            "Hello everyone\n"
          ]
        }
      ]
    },
    {
      "cell_type": "markdown",
      "metadata": {
        "id": "4li6SpzuQAEV"
      },
      "source": [
        "**Python** **Variable**"
      ]
    },
    {
      "cell_type": "code",
      "metadata": {
        "colab": {
          "base_uri": "https://localhost:8080/"
        },
        "id": "J6_tcs64QIQ7",
        "outputId": "65929f00-2ff8-4ec0-9d2c-57808c34dfe4"
      },
      "source": [
        "x=1\n",
        "x,y=1,2\n",
        "x,y,z=1,2,3\n",
        "print(x)\n",
        "print(y)\n",
        "print(z)"
      ],
      "execution_count": 4,
      "outputs": [
        {
          "output_type": "stream",
          "name": "stdout",
          "text": [
            "1\n",
            "2\n",
            "3\n"
          ]
        }
      ]
    },
    {
      "cell_type": "markdown",
      "metadata": {
        "id": "FEvcH5ZvQVlC"
      },
      "source": [
        "**Casting**"
      ]
    },
    {
      "cell_type": "code",
      "metadata": {
        "colab": {
          "base_uri": "https://localhost:8080/"
        },
        "id": "bdyGeISqQN66",
        "outputId": "3d9f3211-ac28-44d3-d03a-e811bbb1d5a8"
      },
      "source": [
        "b=int(4)\n",
        "print(b)"
      ],
      "execution_count": 5,
      "outputs": [
        {
          "output_type": "stream",
          "name": "stdout",
          "text": [
            "4\n"
          ]
        }
      ]
    },
    {
      "cell_type": "code",
      "metadata": {
        "colab": {
          "base_uri": "https://localhost:8080/"
        },
        "id": "-G_Y9UYDQe9J",
        "outputId": "b67bf4b1-55e9-4db5-f090-ec6ca06c25fc"
      },
      "source": [
        "c=float(4)\n",
        "print(c)"
      ],
      "execution_count": 6,
      "outputs": [
        {
          "output_type": "stream",
          "name": "stdout",
          "text": [
            "4.0\n"
          ]
        }
      ]
    },
    {
      "cell_type": "markdown",
      "metadata": {
        "id": "Jj3ncwVpQdtR"
      },
      "source": [
        "**Type** **Function**"
      ]
    },
    {
      "cell_type": "code",
      "metadata": {
        "colab": {
          "base_uri": "https://localhost:8080/"
        },
        "id": "VyBIC3A-QnNJ",
        "outputId": "b99553fe-aa7e-4669-e4ec-beff2100eab3"
      },
      "source": [
        "x=10\n",
        "y=\"BILLY\"\n",
        "print(type(x))\n",
        "print(type(y))"
      ],
      "execution_count": 7,
      "outputs": [
        {
          "output_type": "stream",
          "name": "stdout",
          "text": [
            "<class 'int'>\n",
            "<class 'str'>\n"
          ]
        }
      ]
    },
    {
      "cell_type": "markdown",
      "metadata": {
        "id": "sUgAv3v7RH3n"
      },
      "source": [
        "**Quotes**"
      ]
    },
    {
      "cell_type": "code",
      "metadata": {
        "colab": {
          "base_uri": "https://localhost:8080/"
        },
        "id": "_7G_Ko7yRHHK",
        "outputId": "1f748c73-04d2-4114-9733-6bffe938e963"
      },
      "source": [
        "y='Billy'\n",
        "y=\"Pulido\"\n",
        "print(y)"
      ],
      "execution_count": 8,
      "outputs": [
        {
          "output_type": "stream",
          "name": "stdout",
          "text": [
            "Pulido\n"
          ]
        }
      ]
    },
    {
      "cell_type": "markdown",
      "metadata": {
        "id": "hL31iS8CRgMX"
      },
      "source": [
        "**Case** **Sensitive**"
      ]
    },
    {
      "cell_type": "code",
      "metadata": {
        "colab": {
          "base_uri": "https://localhost:8080/"
        },
        "id": "fYFhTN2dRp6m",
        "outputId": "54c2d074-3ec5-4caa-e291-1a76dd3ae7b4"
      },
      "source": [
        "a=5         #A will not overwrite a.\n",
        "A=\"Gilson\"\n",
        "print(a)\n",
        "print(A)"
      ],
      "execution_count": 9,
      "outputs": [
        {
          "output_type": "stream",
          "name": "stdout",
          "text": [
            "5\n",
            "Gilson\n"
          ]
        }
      ]
    },
    {
      "cell_type": "markdown",
      "metadata": {
        "id": "NftdE2p5RyWV"
      },
      "source": [
        "**Multiple** **Variables**"
      ]
    },
    {
      "cell_type": "code",
      "metadata": {
        "colab": {
          "base_uri": "https://localhost:8080/"
        },
        "id": "dy3tmrd9R3Mu",
        "outputId": "6db6fc1b-275a-40fc-a17b-bdee738a1777"
      },
      "source": [
        "x,y,z=1,2,3\n",
        "print(x)\n",
        "print(y)\n",
        "print(z)"
      ],
      "execution_count": 10,
      "outputs": [
        {
          "output_type": "stream",
          "name": "stdout",
          "text": [
            "1\n",
            "2\n",
            "3\n"
          ]
        }
      ]
    },
    {
      "cell_type": "markdown",
      "metadata": {
        "id": "_wf8Mr_ISD7k"
      },
      "source": [
        "**One** **Value** **to** **Many** **Variables**"
      ]
    },
    {
      "cell_type": "code",
      "metadata": {
        "colab": {
          "base_uri": "https://localhost:8080/"
        },
        "id": "7JcEhpmSSc2s",
        "outputId": "9db60aa4-f64b-4f22-d348-682d42ce256d"
      },
      "source": [
        "x=y=z=\"Ohayo\"\n",
        "print(x)\n",
        "print(y)\n",
        "print(z)"
      ],
      "execution_count": 12,
      "outputs": [
        {
          "output_type": "stream",
          "name": "stdout",
          "text": [
            "Ohayo\n",
            "Ohayo\n",
            "Ohayo\n"
          ]
        }
      ]
    },
    {
      "cell_type": "markdown",
      "metadata": {
        "id": "DVXN2NCVTKvg"
      },
      "source": [
        "**Output** **Variables**"
      ]
    },
    {
      "cell_type": "code",
      "metadata": {
        "colab": {
          "base_uri": "https://localhost:8080/"
        },
        "id": "7cAj3JOyTQ3n",
        "outputId": "e6ab4f2b-a9d6-46aa-95ad-76b7430cc37c"
      },
      "source": [
        "x=\"Gozaimasu\"\n",
        "print(\"Arigatou \"+x)"
      ],
      "execution_count": 15,
      "outputs": [
        {
          "output_type": "stream",
          "name": "stdout",
          "text": [
            "Arigatou Gozaimasu\n"
          ]
        }
      ]
    },
    {
      "cell_type": "code",
      "metadata": {
        "colab": {
          "base_uri": "https://localhost:8080/"
        },
        "id": "K1Lc-69yTt-l",
        "outputId": "b58cab74-1d67-406c-dc4f-610aaefdf042"
      },
      "source": [
        "x=\"Ohayo \"\n",
        "y=\"Gozaimasu\"\n",
        "z=x+y\n",
        "print(z)"
      ],
      "execution_count": 17,
      "outputs": [
        {
          "output_type": "stream",
          "name": "stdout",
          "text": [
            "Ohayo Gozaimasu\n"
          ]
        }
      ]
    },
    {
      "cell_type": "markdown",
      "metadata": {
        "id": "Ds8Jqk0qTs9m"
      },
      "source": [
        "**Arithmetic** **Operators**"
      ]
    },
    {
      "cell_type": "code",
      "metadata": {
        "colab": {
          "base_uri": "https://localhost:8080/"
        },
        "id": "twkOCb3yU4mk",
        "outputId": "43f032ec-19df-44ce-9c09-f0a29e460d96"
      },
      "source": [
        "x=105\n",
        "y=210\n",
        "print(x+y)"
      ],
      "execution_count": 18,
      "outputs": [
        {
          "output_type": "stream",
          "name": "stdout",
          "text": [
            "315\n"
          ]
        }
      ]
    },
    {
      "cell_type": "code",
      "metadata": {
        "colab": {
          "base_uri": "https://localhost:8080/"
        },
        "id": "IhvVSjTYVYFI",
        "outputId": "5502cd82-1c2a-471b-bdeb-0907bc7c5871"
      },
      "source": [
        "x=2002\n",
        "y=6\n",
        "z=3\n",
        "sum=x+y+z\n",
        "print(sum)"
      ],
      "execution_count": 19,
      "outputs": [
        {
          "output_type": "stream",
          "name": "stdout",
          "text": [
            "11\n"
          ]
        }
      ]
    },
    {
      "cell_type": "markdown",
      "metadata": {
        "id": "suVBDnnfVkmo"
      },
      "source": [
        "**Assignment Operator**"
      ]
    },
    {
      "cell_type": "code",
      "metadata": {
        "colab": {
          "base_uri": "https://localhost:8080/"
        },
        "id": "nWLKNZoRVoUA",
        "outputId": "74c964df-973f-4773-9a6b-2ca83d0069cb"
      },
      "source": [
        "x=2002\n",
        "x+=19\n",
        "print(x)"
      ],
      "execution_count": 21,
      "outputs": [
        {
          "output_type": "stream",
          "name": "stdout",
          "text": [
            "2021\n"
          ]
        }
      ]
    },
    {
      "cell_type": "markdown",
      "metadata": {
        "id": "HR1Sf-ITWFXX"
      },
      "source": [
        "**Comparison Operator**"
      ]
    },
    {
      "cell_type": "code",
      "metadata": {
        "colab": {
          "base_uri": "https://localhost:8080/"
        },
        "id": "NKOsO_JUWEJ2",
        "outputId": "ab4c84bc-daf1-4313-93f0-ce9fcb8efa2e"
      },
      "source": [
        "x==y"
      ],
      "execution_count": 22,
      "outputs": [
        {
          "output_type": "execute_result",
          "data": {
            "text/plain": [
              "False"
            ]
          },
          "metadata": {},
          "execution_count": 22
        }
      ]
    },
    {
      "cell_type": "code",
      "metadata": {
        "colab": {
          "base_uri": "https://localhost:8080/"
        },
        "id": "JOvais4WWW7F",
        "outputId": "bd58cca5-a997-4f4b-8473-4d9d90adf5f6"
      },
      "source": [
        "x!=z"
      ],
      "execution_count": 23,
      "outputs": [
        {
          "output_type": "execute_result",
          "data": {
            "text/plain": [
              "True"
            ]
          },
          "metadata": {},
          "execution_count": 23
        }
      ]
    },
    {
      "cell_type": "markdown",
      "metadata": {
        "id": "DYNwMOoeWSku"
      },
      "source": [
        "**Logical Operator**"
      ]
    },
    {
      "cell_type": "code",
      "metadata": {
        "colab": {
          "base_uri": "https://localhost:8080/"
        },
        "id": "RXh1fwT6Whkd",
        "outputId": "d5841245-8348-49a5-9e1d-9b683413222c"
      },
      "source": [
        "x==y and x!=z"
      ],
      "execution_count": 24,
      "outputs": [
        {
          "output_type": "execute_result",
          "data": {
            "text/plain": [
              "False"
            ]
          },
          "metadata": {},
          "execution_count": 24
        }
      ]
    },
    {
      "cell_type": "markdown",
      "metadata": {
        "id": "8bIMxF9RWm-9"
      },
      "source": [
        "**Identity Operator**"
      ]
    },
    {
      "cell_type": "code",
      "metadata": {
        "colab": {
          "base_uri": "https://localhost:8080/"
        },
        "id": "BS1goxQYWpLE",
        "outputId": "c77f0f1b-8065-4c50-8674-0e5e7bdb7c3a"
      },
      "source": [
        "x,y,z=3,1,5\n",
        "x is y"
      ],
      "execution_count": 25,
      "outputs": [
        {
          "output_type": "execute_result",
          "data": {
            "text/plain": [
              "False"
            ]
          },
          "metadata": {},
          "execution_count": 25
        }
      ]
    }
  ]
}